{
 "cells": [
  {
   "cell_type": "code",
   "execution_count": null,
   "metadata": {},
   "outputs": [],
   "source": [
    "%run run_new.py 1"
   ]
  },
  {
   "cell_type": "code",
   "execution_count": null,
   "metadata": {},
   "outputs": [],
   "source": [
    "%run real_data_exchange_linux.py 1"
   ]
  },
  {
   "cell_type": "code",
   "execution_count": null,
   "metadata": {},
   "outputs": [
    {
     "name": "stderr",
     "output_type": "stream",
     "text": [
      "/Users/zhanggangquan/miniconda3/envs/ml/lib/python3.12/site-packages/tqdm/auto.py:21: TqdmWarning: IProgress not found. Please update jupyter and ipywidgets. See https://ipywidgets.readthedocs.io/en/stable/user_install.html\n",
      "  from .autonotebook import tqdm as notebook_tqdm\n"
     ]
    }
   ],
   "source": [
    "%run run_TS_fineTune.py 1"
   ]
  },
  {
   "cell_type": "code",
   "execution_count": 3,
   "metadata": {},
   "outputs": [
    {
     "name": "stderr",
     "output_type": "stream",
     "text": [
      "/Users/zhanggangquan/miniconda3/envs/ml/lib/python3.12/site-packages/tqdm/auto.py:21: TqdmWarning: IProgress not found. Please update jupyter and ipywidgets. See https://ipywidgets.readthedocs.io/en/stable/user_install.html\n",
      "  from .autonotebook import tqdm as notebook_tqdm\n"
     ]
    }
   ],
   "source": [
    "import torch\n",
    "import matplotlib.pyplot as plt\n",
    "import pandas as pd\n",
    "from gluonts.dataset.pandas import PandasDataset\n",
    "from gluonts.dataset.split import split\n",
    "from huggingface_hub import hf_hub_download\n",
    "\n",
    "from uni2ts.eval_util.plot import plot_single\n",
    "from uni2ts.model.moirai import MoiraiForecast, MoiraiModule\n",
    "from uni2ts.model.moirai_moe import MoiraiMoEForecast, MoiraiMoEModule\n",
    "\n",
    "MODEL = \"moirai\"  # model name: choose from {'moirai', 'moirai-moe'}\n",
    "SIZE = \"small\"  # model size: choose from {'small', 'base', 'large'}\n",
    "PDT = 1  # prediction length: any positive integer\n",
    "CTX = 200  # context length: any positive integer\n",
    "PSZ = \"auto\"  # patch size: choose from {\"auto\", 8, 16, 32, 64, 128}\n",
    "BSZ = 32  # batch size: any positive integer\n",
    "TEST = 100  # test set length: any positive integer\n",
    "\n"
   ]
  },
  {
   "cell_type": "code",
   "execution_count": 4,
   "metadata": {},
   "outputs": [],
   "source": [
    "\n",
    "# Read data into pandas DataFrame\n",
    "url = (\n",
    "    \"https://gist.githubusercontent.com/rsnirwan/c8c8654a98350fadd229b00167174ec4/raw/a42101c7786d4bc7695228a0f2c8cea41340e18f/ts_wide.csv\"\n",
    ")\n",
    "df = pd.read_csv(url, index_col=0, parse_dates=True,usecols=[0,1])\n",
    "\n",
    "# Convert into GluonTS dataset\n",
    "ds = PandasDataset(dict(df))\n",
    "\n",
    "# Split into train/test set\n",
    "train, test_template = split(\n",
    "    ds, offset=-TEST\n",
    ")  # assign last TEST time steps as test set\n"
   ]
  },
  {
   "cell_type": "code",
   "execution_count": null,
   "metadata": {},
   "outputs": [
    {
     "data": {
      "application/vnd.microsoft.datawrangler.viewer.v0+json": {
       "columns": [
        {
         "name": "index",
         "rawType": "datetime64[ns]",
         "type": "datetime"
        },
        {
         "name": "A",
         "rawType": "float64",
         "type": "float"
        }
       ],
       "ref": "d2a27331-53df-4a64-bbfb-9bfb567fed21",
       "rows": [
        [
         "2021-01-01 00:00:00",
         "-1.3378"
        ],
        [
         "2021-01-01 01:00:00",
         "-1.6111"
        ],
        [
         "2021-01-01 02:00:00",
         "-1.9259"
        ],
        [
         "2021-01-01 03:00:00",
         "-1.9184"
        ],
        [
         "2021-01-01 04:00:00",
         "-1.9168"
        ],
        [
         "2021-01-01 05:00:00",
         "-1.9681"
        ],
        [
         "2021-01-01 06:00:00",
         "-1.7846"
        ],
        [
         "2021-01-01 07:00:00",
         "-1.5927"
        ],
        [
         "2021-01-01 08:00:00",
         "-1.2477"
        ],
        [
         "2021-01-01 09:00:00",
         "-0.956"
        ],
        [
         "2021-01-01 10:00:00",
         "-0.5371"
        ],
        [
         "2021-01-01 11:00:00",
         "-0.0635"
        ],
        [
         "2021-01-01 12:00:00",
         "0.2484"
        ],
        [
         "2021-01-01 13:00:00",
         "0.6201"
        ],
        [
         "2021-01-01 14:00:00",
         "0.5023"
        ],
        [
         "2021-01-01 15:00:00",
         "1.0044"
        ],
        [
         "2021-01-01 16:00:00",
         "0.8535"
        ],
        [
         "2021-01-01 17:00:00",
         "0.818"
        ],
        [
         "2021-01-01 18:00:00",
         "0.8154"
        ],
        [
         "2021-01-01 19:00:00",
         "0.708"
        ],
        [
         "2021-01-01 20:00:00",
         "0.6353"
        ],
        [
         "2021-01-01 21:00:00",
         "0.2325"
        ],
        [
         "2021-01-01 22:00:00",
         "-0.0448"
        ],
        [
         "2021-01-01 23:00:00",
         "-0.2539"
        ],
        [
         "2021-01-02 00:00:00",
         "-0.5301"
        ],
        [
         "2021-01-02 01:00:00",
         "-0.5604"
        ],
        [
         "2021-01-02 02:00:00",
         "-0.8344"
        ],
        [
         "2021-01-02 03:00:00",
         "-0.572"
        ],
        [
         "2021-01-02 04:00:00",
         "-0.5604"
        ],
        [
         "2021-01-02 05:00:00",
         "-0.4882"
        ],
        [
         "2021-01-02 06:00:00",
         "-0.2409"
        ],
        [
         "2021-01-02 07:00:00",
         "0.0567"
        ],
        [
         "2021-01-02 08:00:00",
         "0.3953"
        ],
        [
         "2021-01-02 09:00:00",
         "0.7209"
        ],
        [
         "2021-01-02 10:00:00",
         "0.936"
        ],
        [
         "2021-01-02 11:00:00",
         "1.1985"
        ],
        [
         "2021-01-02 12:00:00",
         "1.4179"
        ],
        [
         "2021-01-02 13:00:00",
         "1.6294"
        ],
        [
         "2021-01-02 14:00:00",
         "1.6792"
        ],
        [
         "2021-01-02 15:00:00",
         "1.5665"
        ],
        [
         "2021-01-02 16:00:00",
         "1.4542"
        ],
        [
         "2021-01-02 17:00:00",
         "1.3784"
        ],
        [
         "2021-01-02 18:00:00",
         "1.0784"
        ],
        [
         "2021-01-02 19:00:00",
         "0.7094"
        ],
        [
         "2021-01-02 20:00:00",
         "0.3757"
        ],
        [
         "2021-01-02 21:00:00",
         "0.1"
        ],
        [
         "2021-01-02 22:00:00",
         "-0.3805"
        ],
        [
         "2021-01-02 23:00:00",
         "-0.9351"
        ],
        [
         "2021-01-03 00:00:00",
         "-1.2102"
        ],
        [
         "2021-01-03 01:00:00",
         "-1.5725"
        ]
       ],
       "shape": {
        "columns": 1,
        "rows": 240
       }
      },
      "text/html": [
       "<div>\n",
       "<style scoped>\n",
       "    .dataframe tbody tr th:only-of-type {\n",
       "        vertical-align: middle;\n",
       "    }\n",
       "\n",
       "    .dataframe tbody tr th {\n",
       "        vertical-align: top;\n",
       "    }\n",
       "\n",
       "    .dataframe thead th {\n",
       "        text-align: right;\n",
       "    }\n",
       "</style>\n",
       "<table border=\"1\" class=\"dataframe\">\n",
       "  <thead>\n",
       "    <tr style=\"text-align: right;\">\n",
       "      <th></th>\n",
       "      <th>A</th>\n",
       "    </tr>\n",
       "  </thead>\n",
       "  <tbody>\n",
       "    <tr>\n",
       "      <th>2021-01-01 00:00:00</th>\n",
       "      <td>-1.3378</td>\n",
       "    </tr>\n",
       "    <tr>\n",
       "      <th>2021-01-01 01:00:00</th>\n",
       "      <td>-1.6111</td>\n",
       "    </tr>\n",
       "    <tr>\n",
       "      <th>2021-01-01 02:00:00</th>\n",
       "      <td>-1.9259</td>\n",
       "    </tr>\n",
       "    <tr>\n",
       "      <th>2021-01-01 03:00:00</th>\n",
       "      <td>-1.9184</td>\n",
       "    </tr>\n",
       "    <tr>\n",
       "      <th>2021-01-01 04:00:00</th>\n",
       "      <td>-1.9168</td>\n",
       "    </tr>\n",
       "    <tr>\n",
       "      <th>...</th>\n",
       "      <td>...</td>\n",
       "    </tr>\n",
       "    <tr>\n",
       "      <th>2021-01-10 19:00:00</th>\n",
       "      <td>0.7328</td>\n",
       "    </tr>\n",
       "    <tr>\n",
       "      <th>2021-01-10 20:00:00</th>\n",
       "      <td>0.4957</td>\n",
       "    </tr>\n",
       "    <tr>\n",
       "      <th>2021-01-10 21:00:00</th>\n",
       "      <td>-0.1209</td>\n",
       "    </tr>\n",
       "    <tr>\n",
       "      <th>2021-01-10 22:00:00</th>\n",
       "      <td>-0.5072</td>\n",
       "    </tr>\n",
       "    <tr>\n",
       "      <th>2021-01-10 23:00:00</th>\n",
       "      <td>-0.6661</td>\n",
       "    </tr>\n",
       "  </tbody>\n",
       "</table>\n",
       "<p>240 rows × 1 columns</p>\n",
       "</div>"
      ],
      "text/plain": [
       "                          A\n",
       "2021-01-01 00:00:00 -1.3378\n",
       "2021-01-01 01:00:00 -1.6111\n",
       "2021-01-01 02:00:00 -1.9259\n",
       "2021-01-01 03:00:00 -1.9184\n",
       "2021-01-01 04:00:00 -1.9168\n",
       "...                     ...\n",
       "2021-01-10 19:00:00  0.7328\n",
       "2021-01-10 20:00:00  0.4957\n",
       "2021-01-10 21:00:00 -0.1209\n",
       "2021-01-10 22:00:00 -0.5072\n",
       "2021-01-10 23:00:00 -0.6661\n",
       "\n",
       "[240 rows x 1 columns]"
      ]
     },
     "execution_count": 5,
     "metadata": {},
     "output_type": "execute_result"
    }
   ],
   "source": [
    "df"
   ]
  },
  {
   "cell_type": "code",
   "execution_count": 5,
   "metadata": {},
   "outputs": [],
   "source": [
    "\n",
    "# Construct rolling window evaluation\n",
    "test_data = test_template.generate_instances(\n",
    "    prediction_length=PDT,  # number of time steps for each prediction\n",
    "    windows=TEST,  # number of windows in rolling window evaluation\n",
    "    distance=1,  # number of time steps between each window - distance=PDT for non-overlapping windows\n",
    ")\n"
   ]
  },
  {
   "cell_type": "code",
   "execution_count": 6,
   "metadata": {},
   "outputs": [],
   "source": [
    "\n",
    "# Prepare pre-trained model by downloading model weights from huggingface hub\n",
    "if MODEL == \"moirai\":\n",
    "    model = MoiraiForecast(\n",
    "        module=MoiraiModule.from_pretrained(f\"Salesforce/moirai-1.1-R-{SIZE}\"),\n",
    "        prediction_length=PDT,\n",
    "        context_length=CTX,\n",
    "        patch_size=PSZ,\n",
    "        num_samples=100,\n",
    "        target_dim=1,\n",
    "        feat_dynamic_real_dim=ds.num_feat_dynamic_real,\n",
    "        past_feat_dynamic_real_dim=ds.num_past_feat_dynamic_real,\n",
    "    )\n",
    "elif MODEL == \"moirai-moe\":\n",
    "    model = MoiraiMoEForecast(\n",
    "        module=MoiraiMoEModule.from_pretrained(f\"Salesforce/moirai-moe-1.0-R-{SIZE}\"),\n",
    "        prediction_length=PDT,\n",
    "        context_length=CTX,\n",
    "        patch_size=16,\n",
    "        num_samples=100,\n",
    "        target_dim=1,\n",
    "        feat_dynamic_real_dim=ds.num_feat_dynamic_real,\n",
    "        past_feat_dynamic_real_dim=ds.num_past_feat_dynamic_real,\n",
    "    )\n"
   ]
  },
  {
   "cell_type": "code",
   "execution_count": 7,
   "metadata": {},
   "outputs": [],
   "source": [
    "\n",
    "predictor = model.create_predictor(batch_size=BSZ)\n",
    "forecasts = predictor.predict(test_data.input)\n",
    "\n",
    "input_it = iter(test_data.input)\n",
    "label_it = iter(test_data.label)\n",
    "forecast_it = iter(forecasts)\n"
   ]
  },
  {
   "cell_type": "code",
   "execution_count": null,
   "metadata": {},
   "outputs": [],
   "source": [
    "\n",
    "# inp = next(input_it)\n",
    "# label = next(label_it)\n",
    "# forecast = next(forecast_it)\n"
   ]
  },
  {
   "cell_type": "code",
   "execution_count": 8,
   "metadata": {},
   "outputs": [
    {
     "data": {
      "text/plain": [
       "gluonts.model.forecast.SampleForecast(info=None, item_id='A', samples=array([[0.613533  ],\n",
       "       [0.44012418],\n",
       "       [0.771653  ],\n",
       "       [0.17043065],\n",
       "       [0.46783337],\n",
       "       [0.59612995],\n",
       "       [0.59062797],\n",
       "       [0.6047426 ],\n",
       "       [0.4437424 ],\n",
       "       [0.9573697 ],\n",
       "       [0.58569443],\n",
       "       [0.49121612],\n",
       "       [0.6367765 ],\n",
       "       [0.6452157 ],\n",
       "       [0.6074451 ],\n",
       "       [0.4689648 ],\n",
       "       [0.35645685],\n",
       "       [0.50022334],\n",
       "       [0.27719873],\n",
       "       [0.72419316],\n",
       "       [0.53756183],\n",
       "       [0.4673285 ],\n",
       "       [0.50273395],\n",
       "       [0.75066185],\n",
       "       [0.52488357],\n",
       "       [0.38493642],\n",
       "       [0.58781654],\n",
       "       [0.16844995],\n",
       "       [0.5686702 ],\n",
       "       [0.486057  ],\n",
       "       [0.4105735 ],\n",
       "       [0.40579876],\n",
       "       [0.45595574],\n",
       "       [0.54144955],\n",
       "       [0.5398131 ],\n",
       "       [0.732259  ],\n",
       "       [0.8093574 ],\n",
       "       [0.5176901 ],\n",
       "       [0.5210985 ],\n",
       "       [0.5141467 ],\n",
       "       [0.7096054 ],\n",
       "       [0.57302666],\n",
       "       [0.45092085],\n",
       "       [0.51523423],\n",
       "       [0.63414466],\n",
       "       [0.84890366],\n",
       "       [0.6352169 ],\n",
       "       [0.6885137 ],\n",
       "       [0.5646035 ],\n",
       "       [0.46432555],\n",
       "       [0.4778655 ],\n",
       "       [0.8798647 ],\n",
       "       [0.67537373],\n",
       "       [0.3791339 ],\n",
       "       [0.3929372 ],\n",
       "       [0.6949513 ],\n",
       "       [0.5750028 ],\n",
       "       [0.60299546],\n",
       "       [0.5614659 ],\n",
       "       [0.5133347 ],\n",
       "       [0.58951056],\n",
       "       [0.62468064],\n",
       "       [0.65657717],\n",
       "       [0.6209582 ],\n",
       "       [0.732609  ],\n",
       "       [0.5275257 ],\n",
       "       [0.6974907 ],\n",
       "       [0.527507  ],\n",
       "       [0.4935827 ],\n",
       "       [0.6567337 ],\n",
       "       [0.3234837 ],\n",
       "       [0.5613702 ],\n",
       "       [0.50506175],\n",
       "       [0.46325356],\n",
       "       [0.19475102],\n",
       "       [0.37530634],\n",
       "       [0.35667568],\n",
       "       [0.38025868],\n",
       "       [0.48400638],\n",
       "       [0.4279888 ],\n",
       "       [0.298597  ],\n",
       "       [0.55552125],\n",
       "       [0.73074657],\n",
       "       [0.3797511 ],\n",
       "       [0.5109997 ],\n",
       "       [0.47332424],\n",
       "       [0.44659695],\n",
       "       [0.4270351 ],\n",
       "       [0.41608393],\n",
       "       [0.6133372 ],\n",
       "       [0.57727224],\n",
       "       [0.66670966],\n",
       "       [0.37203848],\n",
       "       [0.62997085],\n",
       "       [0.40785596],\n",
       "       [0.5194551 ],\n",
       "       [0.48992485],\n",
       "       [0.49075678],\n",
       "       [0.6736873 ],\n",
       "       [0.33353588]], dtype=float32), start_date=Period('2021-01-06 20:00', 'H'))"
      ]
     },
     "execution_count": 8,
     "metadata": {},
     "output_type": "execute_result"
    }
   ],
   "source": [
    "forecast = next(forecast_it)\n",
    "forecast"
   ]
  },
  {
   "cell_type": "code",
   "execution_count": 14,
   "metadata": {},
   "outputs": [
    {
     "data": {
      "text/plain": [
       "0.52488357"
      ]
     },
     "execution_count": 14,
     "metadata": {},
     "output_type": "execute_result"
    }
   ],
   "source": [
    "forecast.median[0]"
   ]
  },
  {
   "cell_type": "code",
   "execution_count": null,
   "metadata": {},
   "outputs": [
    {
     "name": "stdout",
     "output_type": "stream",
     "text": [
      "[0.43039522, 0.38676655, -0.24905103, -0.8584484, -0.23599283, -2.012742, -1.1939903, -1.8382235, -2.1386845, -2.3711195, -0.82289696, -1.9833266, -0.8528095, -1.0197531, -0.26366445, -0.0158718, 0.34646377, 0.48848957, 0.76109254, 0.76573694, 0.9115124, 1.2781107, 0.44157448, 1.1905078, -0.87176746, 0.36987555, -0.13460359, 0.07236539, -1.2872816, -1.4435753, -0.66313297, -0.52904, -0.6364447, -0.43216693, -0.36838514, 0.25825378, -0.10432905, 0.7847799, 1.189525, 1.311399, 1.7917382, 2.2589939, 1.7225401, 2.0108163, 1.1093735, 1.3798685, 1.7556401, 0.6269568, 0.5502232, 0.07807525, 0.35883754, -0.9033471, -0.60052, -1.7716148, -1.7790349, -1.8936609, -1.7471411, -1.6746293, -1.6990095, -2.036421, -0.51204646, -1.374366, -0.66639555, -0.07748367, 0.3182602, 0.25664404, 0.39734533, 0.7457417, 1.5823356, 0.8064526, 0.6769114, 1.0010091, -0.23684579, 0.24852325, 0.50199056, 0.065473884, -0.5842389, -0.9575628, -0.8112645, 0.012565251, -0.74131304, -0.7918539, 0.32251066, -0.043387838, 0.9521735, 0.4009037, 1.4018059, 1.379564, 1.4952375, 2.0052032, 1.964501, 1.4790058, 1.786473, 1.9931256, 0.98747903, 0.50639576, 0.39889693, -0.5958455, -0.3655347, -0.37612852]\n"
     ]
    }
   ],
   "source": [
    "forecast_result = []\n",
    "for i in range(TEST):\n",
    "    # inp = next(input_it)\n",
    "    # label = next(label_it)\n",
    "    forecast = next(forecast_it)\n",
    "    forecast_result.append(forecast.samples[0][0])\n",
    "print(forecast_result)\n"
   ]
  },
  {
   "cell_type": "code",
   "execution_count": null,
   "metadata": {},
   "outputs": [
    {
     "data": {
      "text/plain": [
       "array([-0.4256, -0.8468])"
      ]
     },
     "execution_count": 33,
     "metadata": {},
     "output_type": "execute_result"
    }
   ],
   "source": [
    "label['target']"
   ]
  },
  {
   "cell_type": "code",
   "execution_count": null,
   "metadata": {},
   "outputs": [
    {
     "data": {
      "image/png": "[encoded data removed]",
      "text/plain": [
       "<Figure size 1000x400 with 1 Axes>"
      ]
     },
     "metadata": {},
     "output_type": "display_data"
    }
   ],
   "source": [
    "plt.figure(figsize=(10, 4))\n",
    "plt.plot(label['target'], label='True')\n",
    "plt.plot(forecast.samples[0], label='Forecast')\n",
    "plt.legend()\n",
    "plt.title(\"True vs Forecast\")\n",
    "plt.show()"
   ]
  },
  {
   "cell_type": "code",
   "execution_count": null,
   "metadata": {},
   "outputs": [
    {
     "data": {
      "image/png": "[encoded data removed]",
      "text/plain": [
       "<Figure size 640x480 with 1 Axes>"
      ]
     },
     "metadata": {},
     "output_type": "display_data"
    }
   ],
   "source": [
    "plot_single(\n",
    "    inp, \n",
    "    label, \n",
    "    forecast, \n",
    "    context_length=200,\n",
    "    name=\"pred\",\n",
    "    show_label=True,\n",
    ")\n",
    "plt.show()"
   ]
  },
  {
   "cell_type": "code",
   "execution_count": null,
   "metadata": {},
   "outputs": [
    {
     "name": "stdout",
     "output_type": "stream",
     "text": [
      "Status Code: 307\n",
      "Headers:\n",
      "{'Content-Type': 'text/plain; charset=utf-8', 'Content-Length': '260', 'Connection': 'keep-alive', 'Date': 'Sat, 28 Jun 2025 18:54:52 GMT', 'Location': '/api/resolve-cache/models/Salesforce/moirai-1.1-R-base/a0358780de4cdd7ac7963b12ae9985d225d55026/config.json?%2FSalesforce%2Fmoirai-1.1-R-base%2Fresolve%2Fmain%2Fconfig.json=&etag=%2221f44903cb12e12ba23d6afc0bbf4dfc0b2b296c%22', 'X-Powered-By': 'huggingface-moon', 'cross-origin-opener-policy': 'same-origin', 'Referrer-Policy': 'strict-origin-when-cross-origin', 'X-Request-Id': 'Root=1-68603a7c-7a813756104fe1c53fb500b2', 'Access-Control-Allow-Origin': 'https://huggingface.co', 'Vary': 'Origin, Accept', 'Access-Control-Expose-Headers': 'X-Repo-Commit,X-Request-Id,X-Error-Code,X-Error-Message,X-Total-Count,ETag,Link,Accept-Ranges,Content-Range,X-Linked-Size,X-Linked-ETag,X-Xet-Hash', 'X-Repo-Commit': 'a0358780de4cdd7ac7963b12ae9985d225d55026', 'Accept-Ranges': 'bytes', 'X-Hub-Cache': 'MISS', 'Content-Disposition': 'inline; filename*=UTF-8\\'\\'config.json; filename=\"config.json\";', 'Content-Security-Policy': \"default-src 'none'; sandbox\", 'X-Linked-ETag': '\"21f44903cb12e12ba23d6afc0bbf4dfc0b2b296c\"', 'X-Cache': 'Miss from cloudfront', 'Via': '1.1 32ea9b2b7eaaba833294021989c78c08.cloudfront.net (CloudFront)', 'X-Amz-Cf-Pop': 'YUL62-P1', 'X-Amz-Cf-Id': 'utp4qyDteFDWBv0jStEzjzaqH3LPnZ1iHqJ4peCb-qs1EoYDrbqCpg=='}\n",
      "❌ URL is not accessible.\n",
      "Attempting to load Moirai model...\n",
      "✅ Moirai model loaded successfully!\n"
     ]
    }
   ],
   "source": [
    "%run test_hf_connection.py"
   ]
  }
 ],
 "metadata": {
  "kernelspec": {
   "display_name": "ml",
   "language": "python",
   "name": "python3"
  },
  "language_info": {
   "codemirror_mode": {
    "name": "ipython",
    "version": 3
   },
   "file_extension": ".py",
   "mimetype": "text/x-python",
   "name": "python",
   "nbconvert_exporter": "python",
   "pygments_lexer": "ipython3",
   "version": "3.12.9"
  }
 },
 "nbformat": 4,
 "nbformat_minor": 2
}
